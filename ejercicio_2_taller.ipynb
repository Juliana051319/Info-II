{
 "cells": [
  {
   "cell_type": "markdown",
   "metadata": {},
   "source": [
    "2. BIBLIOTECA\n",
    "Una biblioteca contiene libros y revistas. En ella puede haber varias copias de un mismo libro. Algunos de los\n",
    "libros son reservados sólo para préstamos a corto plazo. Todos los otros pueden ser prestados a cualquier\n",
    "miembro de la biblioteca por tres semanas. Los miembros de la biblioteca pueden normalmente solicitar hasta\n",
    "seis items de una vez, pero miembros del staff pueden solicitar hasta doce items a la vez. Solamente\n",
    "miembros del staff pueden obtener prestado revistas.\n",
    "El sistema debe conservar la pista de cuando los libros y revistas son prestados y retornados."
   ]
  },
  {
   "cell_type": "code",
   "execution_count": 23,
   "metadata": {},
   "outputs": [],
   "source": [
    "class MaterialBibliografico:\n",
    "    def __init__(self, id, nombre, genero):\n",
    "        self.id = id\n",
    "        self.nombre = nombre\n",
    "        self.genero = genero\n",
    "        self.usuario = None\n",
    "        \n",
    "    \n",
    "    def Prestamo():\n",
    "        pass\n",
    "    def Devolver(self):\n",
    "        self.usuario = None\n",
    "        \n",
    "\n",
    "class Libros(MaterialBibliografico):\n",
    "    def __init__(self, id, nombre, genero , ejemplares, tiempoPrestamo):\n",
    "        super().__init__(id, nombre, genero)\n",
    "        self.ejemplares = ejemplares\n",
    "        self.tiempoPrestamo = tiempoPrestamo\n",
    "\n",
    "    def Prestamo(self, miembro):\n",
    "        self.miembro = miembro\n",
    "        print(self.miembro)\n",
    "\n",
    "    def Devolver(self):\n",
    "        return super().Devolver()\n",
    "\n",
    "class Revista(MaterialBibliografico):\n",
    "    def __init__(self, id, nombre, genero):\n",
    "        super().__init__(id, nombre, genero)\n",
    "\n",
    "    def Prestamo(self, miembro):\n",
    "        self.miembro = miembro\n",
    "        print(self.miembro)\n",
    "\n",
    "class Miembros:\n",
    "    def __init__(self, nombre, cedula, tipo):\n",
    "        self.nombre = nombre\n",
    "        self.cedula = cedula\n",
    "        self.tipo = tipo\n",
    "\n",
    "    def mostrarMiembro(self):\n",
    "        return(f'Miembro: {self.nombre}  \\nIdentificación: {self.cedula}  \\nTipo: {self.tipo}') \n",
    "        \n",
    "\n",
    "class Biblioteca:\n",
    "    materialBibliografico = [Libros(9080,'los juegos del hambre', 'aventura', 1, 6),(90900,'El cuaderno de maya','ficción', 2, 15)]\n",
    "    usuarios = [Miembros('Camila', 123, 'clasico'), Miembros('Juliana', 4566, 'staff')]\n",
    "\n",
    "   \n",
    "    def Prestar(self, libro, usuario):\n",
    "        libro.Prestamo(usuario)\n",
    "        \n",
    "    def Devolver( self, libro):\n",
    "        libro.Devolver()\n",
    "        print(libro.usuario)\n",
    "      \n",
    "    def Buscar(self, id):\n",
    "        for libro in self.materialBibliografico:\n",
    "            if libro.id == id:\n",
    "                return libro\n",
    "            "
   ]
  },
  {
   "cell_type": "code",
   "execution_count": 24,
   "metadata": {},
   "outputs": [
    {
     "name": "stdout",
     "output_type": "stream",
     "text": [
      "None\n"
     ]
    }
   ],
   "source": [
    "libro1 = Biblioteca.materialBibliografico[0]\n",
    "Biblioteca.Devolver(libro1)"
   ]
  },
  {
   "cell_type": "code",
   "execution_count": 20,
   "metadata": {},
   "outputs": [
    {
     "name": "stdout",
     "output_type": "stream",
     "text": [
      "Miembro: Camila  \n",
      "Identificación: 123  \n",
      "Tipo: clasico\n",
      "Miembro: Juliana  \n",
      "Identificación: 4566  \n",
      "Tipo: staff\n"
     ]
    }
   ],
   "source": [
    "miembro1 = Miembros('Camila', 123, 'clasico')\n",
    "miembro2 = Miembros('Juliana', 4566, 'staff')\n",
    "print(miembro1.mostrarMiembro())\n",
    "print(miembro2.mostrarMiembro())"
   ]
  },
  {
   "cell_type": "code",
   "execution_count": 9,
   "metadata": {},
   "outputs": [
    {
     "name": "stdout",
     "output_type": "stream",
     "text": [
      "pablo\n"
     ]
    }
   ],
   "source": [
    "libro1 = Libros(9080,'los juegos del hambre', 'aventura', 1, 6)\n",
    "libro1.Prestamo('pablo')"
   ]
  },
  {
   "cell_type": "code",
   "execution_count": null,
   "metadata": {},
   "outputs": [],
   "source": [
    "# Clase principal para representar los elementos de la biblioteca\n",
    "class ElementoBiblioteca: #define una clase llamada ElementoBiblioteca que representa elementos de la biblioteca como libros o revistas.\n",
    "    def __init__(self, titulo, autor, codigo): # se inicializan los atributos del elemento\n",
    "        self.titulo = titulo \n",
    "        self.autor = autor\n",
    "        self.codigo = codigo\n",
    "        self.prestado = False #el estado prestado (que comienza como False para indicar que el elemento no está prestado).\n",
    "    #El método prestar permite marcar el elemento como prestado si aún no lo está y devuelve True, de lo contrario, devuelve False si ya está prestado.\n",
    "    def prestar(self):\n",
    "        if not self.prestado:\n",
    "            self.prestado = True\n",
    "            return True\n",
    "        else:\n",
    "            return False\n",
    "    # permite marcar el elemento como no prestado si está prestado y devuelve True, de lo contrario, devuelve False si ya está devuelto.\n",
    "    def retornar(self):\n",
    "        if self.prestado:\n",
    "            self.prestado = False\n",
    "            return True\n",
    "        else:\n",
    "            return False\n",
    "    #Devuelve una representación de cadena del elemento en el formato \"Título (Autor)\n",
    "    def __str__(self):\n",
    "        return f\"{self.titulo} ({self.autor})\"\n",
    "\n",
    "\n",
    "# Clase para representar libros\n",
    "class Libro(ElementoBiblioteca):\n",
    "    def __init__(self, titulo, autor, codigo, reserva_corto_plazo=False):\n",
    "        super().__init__(titulo, autor, codigo)\n",
    "        self.reserva_corto_plazo = reserva_corto_plazo\n",
    "\n",
    "\n",
    "# Clase para representar revistas\n",
    "class Revista(ElementoBiblioteca):\n",
    "    pass\n",
    "\n",
    "\n",
    "# Clase para representar un miembro de la biblioteca\n",
    "class MiembroBiblioteca:\n",
    "    def __init__(self, nombre, es_staff=False):\n",
    "        self.nombre = nombre\n",
    "        self.es_staff = es_staff\n",
    "        self.items_prestados = [] #Lista para llevar un registro de los elementos prestados.\n",
    "\n",
    "    #permite a un miembro solicitar un préstamo de un elemento de la biblioteca. Se verifica si el miembro cumple con los límites de préstamo y si el elemento puede prestarse.\n",
    "    def solicitar_prestamo(self, elemento):\n",
    "        if (self.es_staff and len(self.items_prestados) < 12) or (not self.es_staff and len(self.items_prestados) < 6):\n",
    "            if elemento.prestar():\n",
    "                self.items_prestados.append(elemento)\n",
    "                return True\n",
    "        return False\n",
    "\n",
    "    # permite al miembro retornar un elemento prestado\n",
    "    def retornar_prestamo(self, elemento):\n",
    "        if elemento in self.items_prestados:\n",
    "            elemento.retornar()\n",
    "            self.items_prestados.remove(elemento)\n",
    "\n",
    "    def __str__(self):\n",
    "        return self.nombre\n",
    "\n",
    "\n",
    "# Ejemplo de uso\n",
    "if __name__ == \"__main__\":\n",
    "    # Crear elementos de la biblioteca\n",
    "    libro1 = Libro(\"El Gran Gatsby\", \"F. Scott Fitzgerald\", \"L1\", reserva_corto_plazo=True)\n",
    "    libro2 = Libro(\"Cien años de soledad\", \"Gabriel García Márquez\", \"L2\")\n",
    "    revista1 = Revista(\"National Geographic\", \"Varios autores\", \"R1\")\n",
    "\n",
    "    # Crear miembros de la biblioteca\n",
    "    miembro1 = MiembroBiblioteca(\"Juan\")\n",
    "    staff1 = MiembroBiblioteca(\"Ana\", es_staff=True)\n",
    "\n",
    "    # Préstamos\n",
    "    miembro1.solicitar_prestamo(libro1)\n",
    "    staff1.solicitar_prestamo(libro2)\n",
    "    staff1.solicitar_prestamo(revista1)\n",
    "\n",
    "    # Retornar préstamos\n",
    "    miembro1.retornar_prestamo(libro1)\n",
    "    staff1.retornar_prestamo(libro2)\n",
    "\n",
    "    # Ver información\n",
    "    print(f\"Miembro 1 ({miembro1}): {miembro1.items_prestados}\")\n",
    "    print(f\"Staff 1 ({staff1}): {staff1.items_prestados}\")\n"
   ]
  }
 ],
 "metadata": {
  "kernelspec": {
   "display_name": "Python 3",
   "language": "python",
   "name": "python3"
  },
  "language_info": {
   "codemirror_mode": {
    "name": "ipython",
    "version": 3
   },
   "file_extension": ".py",
   "mimetype": "text/x-python",
   "name": "python",
   "nbconvert_exporter": "python",
   "pygments_lexer": "ipython3",
   "version": "3.11.2"
  },
  "orig_nbformat": 4
 },
 "nbformat": 4,
 "nbformat_minor": 2
}
