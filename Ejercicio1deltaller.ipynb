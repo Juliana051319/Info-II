{
  "cells": [
    {
      "cell_type": "markdown",
      "metadata": {
        "id": "LnBtrKchuSal"
      },
      "source": [
        "**1. SISTEMA DE GESTIÓN DE SIGNOS VITALES**\n",
        "\n",
        "Se propone diseñar un sistema para la gestión de signos vitales de pacientes en un servicio de hospitalización.\n",
        "El sistema debe gestionar médicos y pacientes. Los pacientes tienen información de nombre, cédula,\n",
        "temperatura, frecuencia cardiaca, presión. Los médicos tienen información de nombre, cédula, registro\n",
        "médico y la lista de los pacientes que tiene a cargo.\n",
        "\n",
        "El médico puede verificar el estado de un paciente o ingresar un nuevo paciente. Para verificar el estado de un\n",
        "paciente se ingresa su número de cédula y el sistema deberá retornar una cadena con el siguiente formato:\n",
        "Nombre; Temperatura; Frecuencia cardiaca; Presión, en el orden indicado y usando los ‘;’. En caso de que el\n",
        "número de identificación no exista se debe retornar la cadena: Paciente no existe.\n",
        "\n",
        "Para ingresar un paciente se solicita su identificación, en caso de que exista se retorna la cadena: Paciente\n",
        "existe. En el otro caso se ingresa los datos restantes, y una vez creado se agrega a la lista de pacientes del\n",
        "sistema."
      ]
    },
    {
      "cell_type": "code",
      "execution_count": 33,
      "metadata": {
        "id": "f8mdYOpyuRcV"
      },
      "outputs": [],
      "source": [
        "class Persona: # comienza la definición de la clase principal.\n",
        "  def __init__(self, nombre, cedula): #constructor de la clase persona.\n",
        "    self.nombre = nombre # se asigna el valor del atributo nombre\n",
        "    self.cedula = cedula # se le asigna el valor al atributo cedula.\n",
        "\n",
        "class Paciente(Persona): #Se define la clase paciente que hereda a la clase persona\n",
        "  def __init__(self, nombre, cedula, temperatura, frecuenciaCardiaca, presion): #Se crea constructor de la clase paciente con los atributos especificos de paciente, así como los atributos heredados de persona.\n",
        "    super().__init__(nombre, cedula) #Llama al constructor de la clase persona\n",
        "    self.temperatura = temperatura #Asigna el valor del atributo temepratura.\n",
        "    self.frecuenciaCardiaca = frecuenciaCardiaca #Asigna el valor del atributo de instancia.\n",
        "    self.presion = presion #Asigna el valor del atributo de presión\n",
        "\n",
        "\n",
        "class Doctor(Persona): # Se define la clase doctor que tambien hereda de persona\n",
        "  def __init__(self, nombre, cedula, registroMedico): #El constructor de la clase Medico toma los atributos específicos de un médico, así como los atributos heredados de Persona.\n",
        "    super().__init__(nombre, cedula) #Llama al constructor de la clase base Persona para inicializar los atributos heredados nombre y cedula.\n",
        "    self.registroMedico = registroMedico #Asigna el valor del parámetro registro_medico al atributo de instancia registro_medico.\n",
        "    self.pacientesAcargo = [] #Inicializa una lista vacía pacientes_a_cargo que se utilizará para mantener un registro de los pacientes que el médico tiene a su cargo.\n",
        "\n",
        "  def verificarPaciente(self, cedula): # Define un método en la clase Medico para verificar el estado de un paciente dado su número de cédula.\n",
        "    for paciente in self.pacientesAcargo: #Inicia un bucle que itera a través de la lista de pacientes a cargo del médico.\n",
        "      if paciente.cedula == cedula: #Comprueba si la cédula del paciente coincide con la cédula proporcionada como argumento.\n",
        "        return (f'{paciente.nombre};{paciente.cedula};{paciente.temperatura} ; {paciente.frecuenciaCardiaca} ; {paciente.presion}') #Si se encuentra el paciente, se devuelve una cadena con los datos del paciente en el formato especificado.\n",
        "\n",
        "    return \"Paciente no existe\" #Si no se encuentra el paciente, se devuelve la cadena \"Paciente no existe\".\n",
        "\n",
        "  def ingresarPaciente(self, paciente): #Define un método en la clase Medico para ingresar un paciente a la lista de pacientes a cargo del médico. Este método toma un objeto de tipo Paciente como argumento.\n",
        "    if isinstance(paciente, Paciente): #Comprueba si el objeto paciente como argumento es una instancia de la clase Paciente.\n",
        "      for p in self.pacientesAcargo: #Inicia un bucle que itera a través de la lista de pacientes a cargo del médico.\n",
        "        if p.cedula == paciente.cedula: #Comprueba si la cédula del paciente ya está en la lista.\n",
        "          return 'Paciente existe' #Si el paciente ya está en la lista, se devuelve \"Paciente existe\".\n",
        "      self.pacientesAcargo.append(paciente) # Si el paciente no está en la lista, se agrega a la lista de pacientes a cargo del médico.\n",
        "      return 'Paciente agregado con exito' #Se devuelve un mensaje indicando que el paciente se ha ingresado con éxito.\n",
        "\n",
        "    else:\n",
        "      return 'El paciente no existe'\n",
        "\n",
        "\n",
        "\n",
        "\n"
      ]
    },
    {
      "cell_type": "code",
      "execution_count": 34,
      "metadata": {
        "id": "pD55HEuY1Gj5"
      },
      "outputs": [],
      "source": [
        "paciente1 = Paciente('Luisa Taho', '123', 37, 95, 20)\n",
        "paciente2 = Paciente('Juliana Sarmiento','234', 38, 60, 39)\n"
      ]
    },
    {
      "cell_type": "code",
      "execution_count": 35,
      "metadata": {
        "colab": {
          "base_uri": "https://localhost:8080/"
        },
        "id": "1vXKYylZDyLG",
        "outputId": "6bcc8e2f-5899-490a-90da-933cd80a0bc7"
      },
      "outputs": [
        {
          "name": "stdout",
          "output_type": "stream",
          "text": [
            "Paciente no existe\n"
          ]
        }
      ],
      "source": [
        "medico1 = Doctor('Catalina Ruiz', '5678','3456mjg')\n",
        "medico2 = Doctor('Daniel Cortes', '3577', '688ujmj')\n",
        "print(medico1.verificarPaciente(paciente1))"
      ]
    },
    {
      "cell_type": "code",
      "execution_count": 36,
      "metadata": {
        "colab": {
          "base_uri": "https://localhost:8080/"
        },
        "id": "WluvyJcgEsLY",
        "outputId": "979ddc31-643f-4360-c66b-d0acb6237742"
      },
      "outputs": [
        {
          "name": "stdout",
          "output_type": "stream",
          "text": [
            "Paciente agregado con exito\n"
          ]
        }
      ],
      "source": [
        "print(medico1.ingresarPaciente(paciente2))"
      ]
    },
    {
      "cell_type": "code",
      "execution_count": 37,
      "metadata": {
        "colab": {
          "base_uri": "https://localhost:8080/"
        },
        "id": "-M5uJU82FxIb",
        "outputId": "45863f4e-e8be-4159-afc7-07287a8dc3ba"
      },
      "outputs": [
        {
          "name": "stdout",
          "output_type": "stream",
          "text": [
            "Juliana Sarmiento;234;38 ; 60 ; 39\n"
          ]
        }
      ],
      "source": [
        "print(medico1.verificarPaciente('234'))"
      ]
    }
  ],
  "metadata": {
    "colab": {
      "provenance": []
    },
    "kernelspec": {
      "display_name": "Python 3",
      "name": "python3"
    },
    "language_info": {
      "name": "python"
    }
  },
  "nbformat": 4,
  "nbformat_minor": 0
}
