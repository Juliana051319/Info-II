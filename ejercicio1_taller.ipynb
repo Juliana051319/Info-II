{
 "cells": [
  {
   "cell_type": "markdown",
   "metadata": {},
   "source": [
    "class Persona:\n",
    "    def __init__(self, nombre, cedula):\n",
    "        self.nombre = nombre\n",
    "        self.cedula = cedula\n",
    "\n",
    "class Paciente(Persona):\n",
    "    def __init__(self, nombre, cedula, temperatura, frecuencia_cardiaca, presion):\n",
    "        super().__init__(nombre, cedula)\n",
    "        self.temperatura = temperatura\n",
    "        self.frecuencia_cardiaca = frecuencia_cardiaca\n",
    "        self.presion = presion\n",
    "\n",
    "class Medico(Persona):\n",
    "    def __init__(self, nombre, cedula, registro_medico):\n",
    "        super().__init__(nombre, cedula)\n",
    "        self.registro_medico = registro_medico\n",
    "        self.pacientes_a_cargo = []\n",
    "\n",
    "    def verificar_paciente(self, cedula):\n",
    "        for paciente in self.pacientes_a_cargo:\n",
    "            if paciente.cedula == cedula:\n",
    "                return f\"{paciente.nombre}; {paciente.temperatura}; {paciente.frecuencia_cardiaca}; {paciente.presion}\"\n",
    "        return \"Paciente no existe\"\n",
    "\n",
    "    def ingresar_paciente(self, paciente):\n",
    "        if isinstance(paciente, Paciente):\n",
    "            for p in self.pacientes_a_cargo:\n",
    "                if p.cedula == paciente.cedula:\n",
    "                    return \"Paciente existe\"\n",
    "            self.pacientes_a_cargo.append(paciente)\n",
    "            return \"Paciente ingresado con éxito\"\n",
    "        else:\n",
    "            return \"No se pudo ingresar el paciente. El objeto no es de tipo Paciente.\"\n",
    "\n",
    "# Ejemplo de uso\n",
    "if __name__ == \"__main__\":\n",
    "    medico1 = Medico(\"Dr. Juan\", \"12345\", \"7890\")\n",
    "    medico2 = Medico(\"Dra. Maria\", \"67890\", \"1234\")\n",
    "\n",
    "    paciente1 = Paciente(\"Juan Perez\", \"001\", 37.5, 80, \"120/80\")\n",
    "    paciente2 = Paciente(\"Maria Rodriguez\", \"002\", 36.8, 75, \"118/78\")\n",
    "\n",
    "    print(medico1.ingresar_paciente(paciente1))\n",
    "    print(medico2.ingresar_paciente(paciente2))\n",
    "\n",
    "    print(medico1.verificar_paciente(\"001\"))  # Devolverá los datos del paciente\n",
    "    print(medico2.verificar_paciente(\"003\"))  # Devolverá \"Paciente no existe\"\n"
   ]
  }
 ],
 "metadata": {
  "language_info": {
   "name": "python"
  },
  "orig_nbformat": 4
 },
 "nbformat": 4,
 "nbformat_minor": 2
}
